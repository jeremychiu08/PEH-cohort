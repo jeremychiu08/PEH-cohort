{
 "cells": [
  {
   "cell_type": "markdown",
   "id": "ac8f130d",
   "metadata": {},
   "source": [
    "### Install Require Python Libraries"
   ]
  },
  {
   "cell_type": "code",
   "execution_count": 4,
   "id": "221e0c5c",
   "metadata": {},
   "outputs": [
    {
     "name": "stdout",
     "output_type": "stream",
     "text": [
      "Requirement already satisfied: streamlit in ./pehenv/lib/python3.13/site-packages (from -r requirements.txt (line 1)) (1.48.1)\n",
      "Requirement already satisfied: pandas in ./pehenv/lib/python3.13/site-packages (from -r requirements.txt (line 2)) (2.3.2)\n",
      "Requirement already satisfied: numpy in ./pehenv/lib/python3.13/site-packages (from -r requirements.txt (line 3)) (2.3.2)\n",
      "Requirement already satisfied: seaborn in ./pehenv/lib/python3.13/site-packages (from -r requirements.txt (line 4)) (0.13.2)\n",
      "Requirement already satisfied: matplotlib in ./pehenv/lib/python3.13/site-packages (from -r requirements.txt (line 5)) (3.10.5)\n",
      "Requirement already satisfied: scikit-learn in ./pehenv/lib/python3.13/site-packages (from -r requirements.txt (line 6)) (1.7.1)\n",
      "Requirement already satisfied: geopy in ./pehenv/lib/python3.13/site-packages (from -r requirements.txt (line 7)) (2.4.1)\n",
      "Requirement already satisfied: xgboost in ./pehenv/lib/python3.13/site-packages (from -r requirements.txt (line 8)) (3.0.4)\n",
      "Requirement already satisfied: lightgbm in ./pehenv/lib/python3.13/site-packages (from -r requirements.txt (line 9)) (4.6.0)\n",
      "Requirement already satisfied: catboost in ./pehenv/lib/python3.13/site-packages (from -r requirements.txt (line 10)) (1.2.8)\n",
      "Requirement already satisfied: requests in ./pehenv/lib/python3.13/site-packages (from -r requirements.txt (line 11)) (2.32.5)\n",
      "Requirement already satisfied: altair!=5.4.0,!=5.4.1,<6,>=4.0 in ./pehenv/lib/python3.13/site-packages (from streamlit->-r requirements.txt (line 1)) (5.5.0)\n",
      "Requirement already satisfied: blinker<2,>=1.5.0 in ./pehenv/lib/python3.13/site-packages (from streamlit->-r requirements.txt (line 1)) (1.9.0)\n",
      "Requirement already satisfied: cachetools<7,>=4.0 in ./pehenv/lib/python3.13/site-packages (from streamlit->-r requirements.txt (line 1)) (6.2.0)\n",
      "Requirement already satisfied: click<9,>=7.0 in ./pehenv/lib/python3.13/site-packages (from streamlit->-r requirements.txt (line 1)) (8.2.1)\n",
      "Requirement already satisfied: packaging<26,>=20 in ./pehenv/lib/python3.13/site-packages (from streamlit->-r requirements.txt (line 1)) (25.0)\n",
      "Requirement already satisfied: pillow<12,>=7.1.0 in ./pehenv/lib/python3.13/site-packages (from streamlit->-r requirements.txt (line 1)) (11.3.0)\n",
      "Requirement already satisfied: protobuf<7,>=3.20 in ./pehenv/lib/python3.13/site-packages (from streamlit->-r requirements.txt (line 1)) (6.32.0)\n",
      "Requirement already satisfied: pyarrow>=7.0 in ./pehenv/lib/python3.13/site-packages (from streamlit->-r requirements.txt (line 1)) (21.0.0)\n",
      "Requirement already satisfied: tenacity<10,>=8.1.0 in ./pehenv/lib/python3.13/site-packages (from streamlit->-r requirements.txt (line 1)) (9.1.2)\n",
      "Requirement already satisfied: toml<2,>=0.10.1 in ./pehenv/lib/python3.13/site-packages (from streamlit->-r requirements.txt (line 1)) (0.10.2)\n",
      "Requirement already satisfied: typing-extensions<5,>=4.4.0 in ./pehenv/lib/python3.13/site-packages (from streamlit->-r requirements.txt (line 1)) (4.15.0)\n",
      "Requirement already satisfied: gitpython!=3.1.19,<4,>=3.0.7 in ./pehenv/lib/python3.13/site-packages (from streamlit->-r requirements.txt (line 1)) (3.1.45)\n",
      "Requirement already satisfied: pydeck<1,>=0.8.0b4 in ./pehenv/lib/python3.13/site-packages (from streamlit->-r requirements.txt (line 1)) (0.9.1)\n",
      "Requirement already satisfied: tornado!=6.5.0,<7,>=6.0.3 in ./pehenv/lib/python3.13/site-packages (from streamlit->-r requirements.txt (line 1)) (6.5.2)\n",
      "Requirement already satisfied: python-dateutil>=2.8.2 in ./pehenv/lib/python3.13/site-packages (from pandas->-r requirements.txt (line 2)) (2.9.0.post0)\n",
      "Requirement already satisfied: pytz>=2020.1 in ./pehenv/lib/python3.13/site-packages (from pandas->-r requirements.txt (line 2)) (2025.2)\n",
      "Requirement already satisfied: tzdata>=2022.7 in ./pehenv/lib/python3.13/site-packages (from pandas->-r requirements.txt (line 2)) (2025.2)\n",
      "Requirement already satisfied: contourpy>=1.0.1 in ./pehenv/lib/python3.13/site-packages (from matplotlib->-r requirements.txt (line 5)) (1.3.3)\n",
      "Requirement already satisfied: cycler>=0.10 in ./pehenv/lib/python3.13/site-packages (from matplotlib->-r requirements.txt (line 5)) (0.12.1)\n",
      "Requirement already satisfied: fonttools>=4.22.0 in ./pehenv/lib/python3.13/site-packages (from matplotlib->-r requirements.txt (line 5)) (4.59.1)\n",
      "Requirement already satisfied: kiwisolver>=1.3.1 in ./pehenv/lib/python3.13/site-packages (from matplotlib->-r requirements.txt (line 5)) (1.4.9)\n",
      "Requirement already satisfied: pyparsing>=2.3.1 in ./pehenv/lib/python3.13/site-packages (from matplotlib->-r requirements.txt (line 5)) (3.2.3)\n",
      "Requirement already satisfied: scipy>=1.8.0 in ./pehenv/lib/python3.13/site-packages (from scikit-learn->-r requirements.txt (line 6)) (1.16.1)\n",
      "Requirement already satisfied: joblib>=1.2.0 in ./pehenv/lib/python3.13/site-packages (from scikit-learn->-r requirements.txt (line 6)) (1.5.1)\n",
      "Requirement already satisfied: threadpoolctl>=3.1.0 in ./pehenv/lib/python3.13/site-packages (from scikit-learn->-r requirements.txt (line 6)) (3.6.0)\n",
      "Requirement already satisfied: geographiclib<3,>=1.52 in ./pehenv/lib/python3.13/site-packages (from geopy->-r requirements.txt (line 7)) (2.1)\n",
      "Requirement already satisfied: graphviz in ./pehenv/lib/python3.13/site-packages (from catboost->-r requirements.txt (line 10)) (0.21)\n",
      "Requirement already satisfied: plotly in ./pehenv/lib/python3.13/site-packages (from catboost->-r requirements.txt (line 10)) (6.3.0)\n",
      "Requirement already satisfied: six in ./pehenv/lib/python3.13/site-packages (from catboost->-r requirements.txt (line 10)) (1.17.0)\n",
      "Requirement already satisfied: charset_normalizer<4,>=2 in ./pehenv/lib/python3.13/site-packages (from requests->-r requirements.txt (line 11)) (3.4.3)\n",
      "Requirement already satisfied: idna<4,>=2.5 in ./pehenv/lib/python3.13/site-packages (from requests->-r requirements.txt (line 11)) (3.10)\n",
      "Requirement already satisfied: urllib3<3,>=1.21.1 in ./pehenv/lib/python3.13/site-packages (from requests->-r requirements.txt (line 11)) (2.5.0)\n",
      "Requirement already satisfied: certifi>=2017.4.17 in ./pehenv/lib/python3.13/site-packages (from requests->-r requirements.txt (line 11)) (2025.8.3)\n",
      "Requirement already satisfied: jinja2 in ./pehenv/lib/python3.13/site-packages (from altair!=5.4.0,!=5.4.1,<6,>=4.0->streamlit->-r requirements.txt (line 1)) (3.1.6)\n",
      "Requirement already satisfied: jsonschema>=3.0 in ./pehenv/lib/python3.13/site-packages (from altair!=5.4.0,!=5.4.1,<6,>=4.0->streamlit->-r requirements.txt (line 1)) (4.25.1)\n",
      "Requirement already satisfied: narwhals>=1.14.2 in ./pehenv/lib/python3.13/site-packages (from altair!=5.4.0,!=5.4.1,<6,>=4.0->streamlit->-r requirements.txt (line 1)) (2.2.0)\n",
      "Requirement already satisfied: gitdb<5,>=4.0.1 in ./pehenv/lib/python3.13/site-packages (from gitpython!=3.1.19,<4,>=3.0.7->streamlit->-r requirements.txt (line 1)) (4.0.12)\n",
      "Requirement already satisfied: smmap<6,>=3.0.1 in ./pehenv/lib/python3.13/site-packages (from gitdb<5,>=4.0.1->gitpython!=3.1.19,<4,>=3.0.7->streamlit->-r requirements.txt (line 1)) (5.0.2)\n",
      "Requirement already satisfied: MarkupSafe>=2.0 in ./pehenv/lib/python3.13/site-packages (from jinja2->altair!=5.4.0,!=5.4.1,<6,>=4.0->streamlit->-r requirements.txt (line 1)) (3.0.2)\n",
      "Requirement already satisfied: attrs>=22.2.0 in ./pehenv/lib/python3.13/site-packages (from jsonschema>=3.0->altair!=5.4.0,!=5.4.1,<6,>=4.0->streamlit->-r requirements.txt (line 1)) (25.3.0)\n",
      "Requirement already satisfied: jsonschema-specifications>=2023.03.6 in ./pehenv/lib/python3.13/site-packages (from jsonschema>=3.0->altair!=5.4.0,!=5.4.1,<6,>=4.0->streamlit->-r requirements.txt (line 1)) (2025.4.1)\n",
      "Requirement already satisfied: referencing>=0.28.4 in ./pehenv/lib/python3.13/site-packages (from jsonschema>=3.0->altair!=5.4.0,!=5.4.1,<6,>=4.0->streamlit->-r requirements.txt (line 1)) (0.36.2)\n",
      "Requirement already satisfied: rpds-py>=0.7.1 in ./pehenv/lib/python3.13/site-packages (from jsonschema>=3.0->altair!=5.4.0,!=5.4.1,<6,>=4.0->streamlit->-r requirements.txt (line 1)) (0.27.0)\n",
      "\n",
      "\u001b[1m[\u001b[0m\u001b[34;49mnotice\u001b[0m\u001b[1;39;49m]\u001b[0m\u001b[39;49m A new release of pip is available: \u001b[0m\u001b[31;49m25.0.1\u001b[0m\u001b[39;49m -> \u001b[0m\u001b[32;49m25.2\u001b[0m\n",
      "\u001b[1m[\u001b[0m\u001b[34;49mnotice\u001b[0m\u001b[1;39;49m]\u001b[0m\u001b[39;49m To update, run: \u001b[0m\u001b[32;49mpip install --upgrade pip\u001b[0m\n"
     ]
    }
   ],
   "source": [
    "!pip install -r requirements.txt"
   ]
  },
  {
   "cell_type": "markdown",
   "id": "7eb72f61",
   "metadata": {},
   "source": [
    "### Run the App"
   ]
  },
  {
   "cell_type": "code",
   "execution_count": 23,
   "id": "99ee3f47",
   "metadata": {},
   "outputs": [
    {
     "name": "stdout",
     "output_type": "stream",
     "text": [
      "^C\n"
     ]
    }
   ],
   "source": [
    "!streamlit run bc_addresses_analysis.py & npx localtunnel --port 8502"
   ]
  }
 ],
 "metadata": {
  "kernelspec": {
   "display_name": "pehenv",
   "language": "python",
   "name": "python3"
  },
  "language_info": {
   "codemirror_mode": {
    "name": "ipython",
    "version": 3
   },
   "file_extension": ".py",
   "mimetype": "text/x-python",
   "name": "python",
   "nbconvert_exporter": "python",
   "pygments_lexer": "ipython3",
   "version": "3.13.3"
  }
 },
 "nbformat": 4,
 "nbformat_minor": 5
}
